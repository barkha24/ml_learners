{
 "cells": [
  {
   "cell_type": "code",
   "execution_count": 1,
   "metadata": {},
   "outputs": [],
   "source": [
    "import matplotlib.pyplot as plt\n",
    "import numpy as np\n",
    "import pandas as pd\n",
    "from sklearn import datasets, linear_model"
   ]
  },
  {
   "cell_type": "code",
   "execution_count": 2,
   "metadata": {},
   "outputs": [],
   "source": [
    "df = pd.read_csv('crimedata.csv', encoding='latin-1')"
   ]
  },
  {
   "cell_type": "code",
   "execution_count": 3,
   "metadata": {},
   "outputs": [
    {
     "data": {
      "text/html": [
       "<div>\n",
       "<style scoped>\n",
       "    .dataframe tbody tr th:only-of-type {\n",
       "        vertical-align: middle;\n",
       "    }\n",
       "\n",
       "    .dataframe tbody tr th {\n",
       "        vertical-align: top;\n",
       "    }\n",
       "\n",
       "    .dataframe thead th {\n",
       "        text-align: right;\n",
       "    }\n",
       "</style>\n",
       "<table border=\"1\" class=\"dataframe\">\n",
       "  <thead>\n",
       "    <tr style=\"text-align: right;\">\n",
       "      <th></th>\n",
       "      <th>Êcommunityname</th>\n",
       "      <th>state</th>\n",
       "      <th>countyCode</th>\n",
       "      <th>communityCode</th>\n",
       "      <th>fold</th>\n",
       "      <th>population</th>\n",
       "      <th>householdsize</th>\n",
       "      <th>racepctblack</th>\n",
       "      <th>racePctWhite</th>\n",
       "      <th>racePctAsian</th>\n",
       "      <th>...</th>\n",
       "      <th>burglaries</th>\n",
       "      <th>burglPerPop</th>\n",
       "      <th>larcenies</th>\n",
       "      <th>larcPerPop</th>\n",
       "      <th>autoTheft</th>\n",
       "      <th>autoTheftPerPop</th>\n",
       "      <th>arsons</th>\n",
       "      <th>arsonsPerPop</th>\n",
       "      <th>ViolentCrimesPerPop</th>\n",
       "      <th>nonViolPerPop</th>\n",
       "    </tr>\n",
       "  </thead>\n",
       "  <tbody>\n",
       "    <tr>\n",
       "      <th>0</th>\n",
       "      <td>BerkeleyHeightstownship</td>\n",
       "      <td>NJ</td>\n",
       "      <td>39</td>\n",
       "      <td>5320</td>\n",
       "      <td>1</td>\n",
       "      <td>11980</td>\n",
       "      <td>3.10</td>\n",
       "      <td>1.37</td>\n",
       "      <td>91.78</td>\n",
       "      <td>6.50</td>\n",
       "      <td>...</td>\n",
       "      <td>14</td>\n",
       "      <td>114.85</td>\n",
       "      <td>138</td>\n",
       "      <td>1132.08</td>\n",
       "      <td>16</td>\n",
       "      <td>131.26</td>\n",
       "      <td>2</td>\n",
       "      <td>16.41</td>\n",
       "      <td>41.02</td>\n",
       "      <td>1394.59</td>\n",
       "    </tr>\n",
       "    <tr>\n",
       "      <th>1</th>\n",
       "      <td>Marpletownship</td>\n",
       "      <td>PA</td>\n",
       "      <td>45</td>\n",
       "      <td>47616</td>\n",
       "      <td>1</td>\n",
       "      <td>23123</td>\n",
       "      <td>2.82</td>\n",
       "      <td>0.80</td>\n",
       "      <td>95.57</td>\n",
       "      <td>3.44</td>\n",
       "      <td>...</td>\n",
       "      <td>57</td>\n",
       "      <td>242.37</td>\n",
       "      <td>376</td>\n",
       "      <td>1598.78</td>\n",
       "      <td>26</td>\n",
       "      <td>110.55</td>\n",
       "      <td>1</td>\n",
       "      <td>4.25</td>\n",
       "      <td>127.56</td>\n",
       "      <td>1955.95</td>\n",
       "    </tr>\n",
       "    <tr>\n",
       "      <th>2</th>\n",
       "      <td>Tigardcity</td>\n",
       "      <td>OR</td>\n",
       "      <td>?</td>\n",
       "      <td>?</td>\n",
       "      <td>1</td>\n",
       "      <td>29344</td>\n",
       "      <td>2.43</td>\n",
       "      <td>0.74</td>\n",
       "      <td>94.33</td>\n",
       "      <td>3.43</td>\n",
       "      <td>...</td>\n",
       "      <td>274</td>\n",
       "      <td>758.14</td>\n",
       "      <td>1797</td>\n",
       "      <td>4972.19</td>\n",
       "      <td>136</td>\n",
       "      <td>376.3</td>\n",
       "      <td>22</td>\n",
       "      <td>60.87</td>\n",
       "      <td>218.59</td>\n",
       "      <td>6167.51</td>\n",
       "    </tr>\n",
       "    <tr>\n",
       "      <th>3</th>\n",
       "      <td>Gloversvillecity</td>\n",
       "      <td>NY</td>\n",
       "      <td>35</td>\n",
       "      <td>29443</td>\n",
       "      <td>1</td>\n",
       "      <td>16656</td>\n",
       "      <td>2.40</td>\n",
       "      <td>1.70</td>\n",
       "      <td>97.35</td>\n",
       "      <td>0.50</td>\n",
       "      <td>...</td>\n",
       "      <td>225</td>\n",
       "      <td>1301.78</td>\n",
       "      <td>716</td>\n",
       "      <td>4142.56</td>\n",
       "      <td>47</td>\n",
       "      <td>271.93</td>\n",
       "      <td>?</td>\n",
       "      <td>?</td>\n",
       "      <td>306.64</td>\n",
       "      <td>?</td>\n",
       "    </tr>\n",
       "    <tr>\n",
       "      <th>4</th>\n",
       "      <td>Bemidjicity</td>\n",
       "      <td>MN</td>\n",
       "      <td>7</td>\n",
       "      <td>5068</td>\n",
       "      <td>1</td>\n",
       "      <td>11245</td>\n",
       "      <td>2.76</td>\n",
       "      <td>0.53</td>\n",
       "      <td>89.16</td>\n",
       "      <td>1.17</td>\n",
       "      <td>...</td>\n",
       "      <td>91</td>\n",
       "      <td>728.93</td>\n",
       "      <td>1060</td>\n",
       "      <td>8490.87</td>\n",
       "      <td>91</td>\n",
       "      <td>728.93</td>\n",
       "      <td>5</td>\n",
       "      <td>40.05</td>\n",
       "      <td>?</td>\n",
       "      <td>9988.79</td>\n",
       "    </tr>\n",
       "  </tbody>\n",
       "</table>\n",
       "<p>5 rows × 147 columns</p>\n",
       "</div>"
      ],
      "text/plain": [
       "            Êcommunityname state countyCode communityCode  fold  population  \\\n",
       "0  BerkeleyHeightstownship    NJ         39          5320     1       11980   \n",
       "1           Marpletownship    PA         45         47616     1       23123   \n",
       "2               Tigardcity    OR          ?             ?     1       29344   \n",
       "3         Gloversvillecity    NY         35         29443     1       16656   \n",
       "4              Bemidjicity    MN          7          5068     1       11245   \n",
       "\n",
       "   householdsize  racepctblack  racePctWhite  racePctAsian      ...        \\\n",
       "0           3.10          1.37         91.78          6.50      ...         \n",
       "1           2.82          0.80         95.57          3.44      ...         \n",
       "2           2.43          0.74         94.33          3.43      ...         \n",
       "3           2.40          1.70         97.35          0.50      ...         \n",
       "4           2.76          0.53         89.16          1.17      ...         \n",
       "\n",
       "   burglaries  burglPerPop  larcenies  larcPerPop  autoTheft  autoTheftPerPop  \\\n",
       "0          14       114.85        138     1132.08         16           131.26   \n",
       "1          57       242.37        376     1598.78         26           110.55   \n",
       "2         274       758.14       1797     4972.19        136            376.3   \n",
       "3         225      1301.78        716     4142.56         47           271.93   \n",
       "4          91       728.93       1060     8490.87         91           728.93   \n",
       "\n",
       "   arsons  arsonsPerPop  ViolentCrimesPerPop  nonViolPerPop  \n",
       "0       2         16.41                41.02        1394.59  \n",
       "1       1          4.25               127.56        1955.95  \n",
       "2      22         60.87               218.59        6167.51  \n",
       "3       ?             ?               306.64              ?  \n",
       "4       5         40.05                    ?        9988.79  \n",
       "\n",
       "[5 rows x 147 columns]"
      ]
     },
     "execution_count": 3,
     "metadata": {},
     "output_type": "execute_result"
    }
   ],
   "source": [
    "df.head()"
   ]
  },
  {
   "cell_type": "code",
   "execution_count": 4,
   "metadata": {},
   "outputs": [],
   "source": [
    "df['countyCode'].replace('?','0', inplace = True)\n",
    "df['ViolentCrimesPerPop'].replace('?','0', inplace = True)"
   ]
  },
  {
   "cell_type": "code",
   "execution_count": 5,
   "metadata": {},
   "outputs": [
    {
     "data": {
      "text/html": [
       "<div>\n",
       "<style scoped>\n",
       "    .dataframe tbody tr th:only-of-type {\n",
       "        vertical-align: middle;\n",
       "    }\n",
       "\n",
       "    .dataframe tbody tr th {\n",
       "        vertical-align: top;\n",
       "    }\n",
       "\n",
       "    .dataframe thead th {\n",
       "        text-align: right;\n",
       "    }\n",
       "</style>\n",
       "<table border=\"1\" class=\"dataframe\">\n",
       "  <thead>\n",
       "    <tr style=\"text-align: right;\">\n",
       "      <th></th>\n",
       "      <th>Êcommunityname</th>\n",
       "      <th>state</th>\n",
       "      <th>countyCode</th>\n",
       "      <th>communityCode</th>\n",
       "      <th>fold</th>\n",
       "      <th>population</th>\n",
       "      <th>householdsize</th>\n",
       "      <th>racepctblack</th>\n",
       "      <th>racePctWhite</th>\n",
       "      <th>racePctAsian</th>\n",
       "      <th>...</th>\n",
       "      <th>burglaries</th>\n",
       "      <th>burglPerPop</th>\n",
       "      <th>larcenies</th>\n",
       "      <th>larcPerPop</th>\n",
       "      <th>autoTheft</th>\n",
       "      <th>autoTheftPerPop</th>\n",
       "      <th>arsons</th>\n",
       "      <th>arsonsPerPop</th>\n",
       "      <th>ViolentCrimesPerPop</th>\n",
       "      <th>nonViolPerPop</th>\n",
       "    </tr>\n",
       "  </thead>\n",
       "  <tbody>\n",
       "  </tbody>\n",
       "</table>\n",
       "<p>0 rows × 147 columns</p>\n",
       "</div>"
      ],
      "text/plain": [
       "Empty DataFrame\n",
       "Columns: [Êcommunityname, state, countyCode, communityCode, fold, population, householdsize, racepctblack, racePctWhite, racePctAsian, racePctHisp, agePct12t21, agePct12t29, agePct16t24, agePct65up, numbUrban, pctUrban, medIncome, pctWWage, pctWFarmSelf, pctWInvInc, pctWSocSec, pctWPubAsst, pctWRetire, medFamInc, perCapInc, whitePerCap, blackPerCap, indianPerCap, AsianPerCap, OtherPerCap, HispPerCap, NumUnderPov, PctPopUnderPov, PctLess9thGrade, PctNotHSGrad, PctBSorMore, PctUnemployed, PctEmploy, PctEmplManu, PctEmplProfServ, PctOccupManu, PctOccupMgmtProf, MalePctDivorce, MalePctNevMarr, FemalePctDiv, TotalPctDiv, PersPerFam, PctFam2Par, PctKids2Par, PctYoungKids2Par, PctTeen2Par, PctWorkMomYoungKids, PctWorkMom, NumKidsBornNeverMar, PctKidsBornNeverMar, NumImmig, PctImmigRecent, PctImmigRec5, PctImmigRec8, PctImmigRec10, PctRecentImmig, PctRecImmig5, PctRecImmig8, PctRecImmig10, PctSpeakEnglOnly, PctNotSpeakEnglWell, PctLargHouseFam, PctLargHouseOccup, PersPerOccupHous, PersPerOwnOccHous, PersPerRentOccHous, PctPersOwnOccup, PctPersDenseHous, PctHousLess3BR, MedNumBR, HousVacant, PctHousOccup, PctHousOwnOcc, PctVacantBoarded, PctVacMore6Mos, MedYrHousBuilt, PctHousNoPhone, PctWOFullPlumb, OwnOccLowQuart, OwnOccMedVal, OwnOccHiQuart, OwnOccQrange, RentLowQ, RentMedian, RentHighQ, RentQrange, MedRent, MedRentPctHousInc, MedOwnCostPctInc, MedOwnCostPctIncNoMtg, NumInShelters, NumStreet, PctForeignBorn, PctBornSameState, ...]\n",
       "Index: []\n",
       "\n",
       "[0 rows x 147 columns]"
      ]
     },
     "execution_count": 5,
     "metadata": {},
     "output_type": "execute_result"
    }
   ],
   "source": [
    "df.loc[df['countyCode'] == '?']"
   ]
  },
  {
   "cell_type": "code",
   "execution_count": 6,
   "metadata": {},
   "outputs": [
    {
     "data": {
      "text/html": [
       "<div>\n",
       "<style scoped>\n",
       "    .dataframe tbody tr th:only-of-type {\n",
       "        vertical-align: middle;\n",
       "    }\n",
       "\n",
       "    .dataframe tbody tr th {\n",
       "        vertical-align: top;\n",
       "    }\n",
       "\n",
       "    .dataframe thead th {\n",
       "        text-align: right;\n",
       "    }\n",
       "</style>\n",
       "<table border=\"1\" class=\"dataframe\">\n",
       "  <thead>\n",
       "    <tr style=\"text-align: right;\">\n",
       "      <th></th>\n",
       "      <th>Êcommunityname</th>\n",
       "      <th>state</th>\n",
       "      <th>countyCode</th>\n",
       "      <th>communityCode</th>\n",
       "      <th>fold</th>\n",
       "      <th>population</th>\n",
       "      <th>householdsize</th>\n",
       "      <th>racepctblack</th>\n",
       "      <th>racePctWhite</th>\n",
       "      <th>racePctAsian</th>\n",
       "      <th>...</th>\n",
       "      <th>burglaries</th>\n",
       "      <th>burglPerPop</th>\n",
       "      <th>larcenies</th>\n",
       "      <th>larcPerPop</th>\n",
       "      <th>autoTheft</th>\n",
       "      <th>autoTheftPerPop</th>\n",
       "      <th>arsons</th>\n",
       "      <th>arsonsPerPop</th>\n",
       "      <th>ViolentCrimesPerPop</th>\n",
       "      <th>nonViolPerPop</th>\n",
       "    </tr>\n",
       "  </thead>\n",
       "  <tbody>\n",
       "  </tbody>\n",
       "</table>\n",
       "<p>0 rows × 147 columns</p>\n",
       "</div>"
      ],
      "text/plain": [
       "Empty DataFrame\n",
       "Columns: [Êcommunityname, state, countyCode, communityCode, fold, population, householdsize, racepctblack, racePctWhite, racePctAsian, racePctHisp, agePct12t21, agePct12t29, agePct16t24, agePct65up, numbUrban, pctUrban, medIncome, pctWWage, pctWFarmSelf, pctWInvInc, pctWSocSec, pctWPubAsst, pctWRetire, medFamInc, perCapInc, whitePerCap, blackPerCap, indianPerCap, AsianPerCap, OtherPerCap, HispPerCap, NumUnderPov, PctPopUnderPov, PctLess9thGrade, PctNotHSGrad, PctBSorMore, PctUnemployed, PctEmploy, PctEmplManu, PctEmplProfServ, PctOccupManu, PctOccupMgmtProf, MalePctDivorce, MalePctNevMarr, FemalePctDiv, TotalPctDiv, PersPerFam, PctFam2Par, PctKids2Par, PctYoungKids2Par, PctTeen2Par, PctWorkMomYoungKids, PctWorkMom, NumKidsBornNeverMar, PctKidsBornNeverMar, NumImmig, PctImmigRecent, PctImmigRec5, PctImmigRec8, PctImmigRec10, PctRecentImmig, PctRecImmig5, PctRecImmig8, PctRecImmig10, PctSpeakEnglOnly, PctNotSpeakEnglWell, PctLargHouseFam, PctLargHouseOccup, PersPerOccupHous, PersPerOwnOccHous, PersPerRentOccHous, PctPersOwnOccup, PctPersDenseHous, PctHousLess3BR, MedNumBR, HousVacant, PctHousOccup, PctHousOwnOcc, PctVacantBoarded, PctVacMore6Mos, MedYrHousBuilt, PctHousNoPhone, PctWOFullPlumb, OwnOccLowQuart, OwnOccMedVal, OwnOccHiQuart, OwnOccQrange, RentLowQ, RentMedian, RentHighQ, RentQrange, MedRent, MedRentPctHousInc, MedOwnCostPctInc, MedOwnCostPctIncNoMtg, NumInShelters, NumStreet, PctForeignBorn, PctBornSameState, ...]\n",
       "Index: []\n",
       "\n",
       "[0 rows x 147 columns]"
      ]
     },
     "execution_count": 6,
     "metadata": {},
     "output_type": "execute_result"
    }
   ],
   "source": [
    "df.loc[df['ViolentCrimesPerPop'] == '?']"
   ]
  },
  {
   "cell_type": "code",
   "execution_count": 13,
   "metadata": {},
   "outputs": [],
   "source": [
    "X = df[['PctUnemployed']].astype(int).values\n",
    "y = df['ViolentCrimesPerPop'].values"
   ]
  },
  {
   "cell_type": "code",
   "execution_count": 14,
   "metadata": {},
   "outputs": [],
   "source": [
    "from sklearn.cross_validation import train_test_split\n",
    "X_train, X_test, y_train, y_test = train_test_split(X, y, test_size=0.2, random_state=0)"
   ]
  },
  {
   "cell_type": "code",
   "execution_count": 15,
   "metadata": {},
   "outputs": [
    {
     "data": {
      "text/plain": [
       "LinearRegression(copy_X=True, fit_intercept=True, n_jobs=1, normalize=False)"
      ]
     },
     "execution_count": 15,
     "metadata": {},
     "output_type": "execute_result"
    }
   ],
   "source": [
    "regr = linear_model.LinearRegression()\n",
    "regr.fit(X_train, y_train)"
   ]
  },
  {
   "cell_type": "code",
   "execution_count": 16,
   "metadata": {},
   "outputs": [],
   "source": [
    "y_pred = regr.predict(X_test)"
   ]
  },
  {
   "cell_type": "code",
   "execution_count": 17,
   "metadata": {},
   "outputs": [
    {
     "data": {
      "text/plain": [
       "array([ 838.49014999,  483.72637743,  395.03543429,  483.72637743,\n",
       "        217.65354801,  395.03543429,  217.65354801,  306.34449115,\n",
       "        661.10826371,  927.18109313,  395.03543429,  572.41732057,\n",
       "        749.79920685,  395.03543429, 1193.25392255,  306.34449115,\n",
       "        483.72637743,  395.03543429,  572.41732057,  395.03543429,\n",
       "        217.65354801,  483.72637743,  749.79920685,  572.41732057,\n",
       "        395.03543429,  306.34449115,  572.41732057,  572.41732057,\n",
       "        572.41732057,  927.18109313,  749.79920685,  483.72637743,\n",
       "        306.34449115,  306.34449115,  395.03543429,  483.72637743,\n",
       "        306.34449115,  395.03543429,  749.79920685,  217.65354801,\n",
       "        927.18109313,  483.72637743, 1370.63580883,  661.10826371,\n",
       "        217.65354801,  306.34449115,  749.79920685,  306.34449115,\n",
       "        395.03543429,  395.03543429,  661.10826371,  395.03543429,\n",
       "        395.03543429,  483.72637743,  483.72637743,  395.03543429,\n",
       "       1548.01769511, 2080.16335395,  572.41732057,  661.10826371,\n",
       "        483.72637743,  572.41732057,  572.41732057, 1104.56297941,\n",
       "        661.10826371,  217.65354801,  927.18109313,  572.41732057,\n",
       "        749.79920685,  483.72637743,  572.41732057,  838.49014999,\n",
       "        306.34449115,  306.34449115,  483.72637743,  661.10826371,\n",
       "        306.34449115,  395.03543429,  217.65354801,  749.79920685,\n",
       "        572.41732057,  395.03543429,  572.41732057,  217.65354801,\n",
       "        483.72637743,  306.34449115,  395.03543429,  838.49014999,\n",
       "        483.72637743,  483.72637743,  395.03543429,  217.65354801,\n",
       "        306.34449115,  306.34449115,  306.34449115,  483.72637743,\n",
       "        395.03543429,  749.79920685,  483.72637743,  217.65354801,\n",
       "        306.34449115, 1104.56297941,  661.10826371,  395.03543429,\n",
       "        217.65354801,  572.41732057,  217.65354801, 1015.87203627,\n",
       "        306.34449115,  838.49014999,  572.41732057,  661.10826371,\n",
       "        217.65354801,  483.72637743,  217.65354801,  306.34449115,\n",
       "        306.34449115,  395.03543429,  395.03543429,  661.10826371,\n",
       "        572.41732057,  927.18109313,  395.03543429,  217.65354801,\n",
       "        661.10826371,  572.41732057,  306.34449115,  483.72637743,\n",
       "        483.72637743,  217.65354801,  217.65354801,  572.41732057,\n",
       "       1193.25392255,  661.10826371,  483.72637743,  395.03543429,\n",
       "        483.72637743,  217.65354801,  572.41732057,  927.18109313,\n",
       "        395.03543429, 1104.56297941,  395.03543429,  306.34449115,\n",
       "        572.41732057,  395.03543429,  572.41732057,  306.34449115,\n",
       "        483.72637743,  306.34449115,  572.41732057,  749.79920685,\n",
       "        395.03543429,  395.03543429,  661.10826371,  661.10826371,\n",
       "        661.10826371,  838.49014999,  572.41732057,  661.10826371,\n",
       "        572.41732057,  838.49014999,  838.49014999,  572.41732057,\n",
       "        395.03543429,  661.10826371,  483.72637743,  217.65354801,\n",
       "        217.65354801,  483.72637743,  306.34449115,  838.49014999,\n",
       "        661.10826371,  306.34449115,  217.65354801,  395.03543429,\n",
       "        395.03543429, 1104.56297941,  661.10826371,  483.72637743,\n",
       "        483.72637743,  128.96260487,  483.72637743,  483.72637743,\n",
       "        483.72637743,  306.34449115,  395.03543429,  838.49014999,\n",
       "        395.03543429,  395.03543429,  483.72637743,  838.49014999,\n",
       "        572.41732057,  395.03543429,  395.03543429,  395.03543429,\n",
       "        927.18109313, 1548.01769511,  395.03543429,  217.65354801,\n",
       "        217.65354801,  395.03543429,  217.65354801,  749.79920685,\n",
       "        483.72637743,  483.72637743,  483.72637743,  572.41732057,\n",
       "        572.41732057,  217.65354801,  306.34449115,  749.79920685,\n",
       "        483.72637743,  749.79920685,  927.18109313,  572.41732057,\n",
       "        217.65354801,  838.49014999, 1104.56297941, 1015.87203627,\n",
       "       1104.56297941,  217.65354801,  572.41732057,  927.18109313,\n",
       "        217.65354801,  838.49014999,  838.49014999,  572.41732057,\n",
       "        483.72637743,  306.34449115,  395.03543429,  927.18109313,\n",
       "        838.49014999, 1015.87203627,  838.49014999,  306.34449115,\n",
       "        306.34449115,  749.79920685,  927.18109313,  749.79920685,\n",
       "        395.03543429,  395.03543429,  661.10826371,  749.79920685,\n",
       "        483.72637743,  306.34449115,  306.34449115,  572.41732057,\n",
       "        395.03543429,  483.72637743,  661.10826371,  749.79920685,\n",
       "        661.10826371,  572.41732057, 1548.01769511,  395.03543429,\n",
       "        395.03543429, 1193.25392255,  217.65354801,  661.10826371,\n",
       "        483.72637743,  483.72637743,  572.41732057,  572.41732057,\n",
       "        661.10826371,  749.79920685,  395.03543429,  217.65354801,\n",
       "        217.65354801,  749.79920685,  217.65354801,  306.34449115,\n",
       "        395.03543429, 1015.87203627,  395.03543429,  483.72637743,\n",
       "        572.41732057,  483.72637743,  483.72637743,  661.10826371,\n",
       "        395.03543429,  306.34449115,  306.34449115,  838.49014999,\n",
       "        927.18109313,  572.41732057,  661.10826371, 1104.56297941,\n",
       "        395.03543429,  749.79920685,  572.41732057,  483.72637743,\n",
       "        306.34449115,  483.72637743,  838.49014999, 1281.94486569,\n",
       "        483.72637743,  306.34449115,  395.03543429,  395.03543429,\n",
       "        128.96260487,  306.34449115,  217.65354801,  483.72637743,\n",
       "        572.41732057,  306.34449115,  661.10826371,  395.03543429,\n",
       "        927.18109313,  661.10826371,  838.49014999,  395.03543429,\n",
       "       1015.87203627,  395.03543429,  395.03543429,  483.72637743,\n",
       "        306.34449115,  306.34449115,  217.65354801,  572.41732057,\n",
       "        306.34449115,  217.65354801,  661.10826371,  395.03543429,\n",
       "        661.10826371,  749.79920685, 2523.61806965,  128.96260487,\n",
       "        395.03543429,  483.72637743,  749.79920685,  306.34449115,\n",
       "        838.49014999,  395.03543429,  483.72637743,  306.34449115,\n",
       "       1015.87203627,  661.10826371,  395.03543429,  395.03543429,\n",
       "        217.65354801,  572.41732057,  217.65354801,  661.10826371,\n",
       "        661.10826371,  395.03543429,  927.18109313,  217.65354801,\n",
       "        217.65354801,  217.65354801,  572.41732057,  749.79920685,\n",
       "        483.72637743,  838.49014999,  572.41732057,  838.49014999,\n",
       "        483.72637743,  395.03543429,  306.34449115,  838.49014999,\n",
       "        572.41732057,  483.72637743,  483.72637743,  306.34449115,\n",
       "        483.72637743,  306.34449115,  395.03543429,  838.49014999,\n",
       "        483.72637743, 1015.87203627,  661.10826371,  483.72637743,\n",
       "        927.18109313,  572.41732057,  306.34449115,  927.18109313,\n",
       "        661.10826371,  483.72637743,  483.72637743,  395.03543429,\n",
       "        306.34449115,  395.03543429,  483.72637743,  217.65354801,\n",
       "        395.03543429,  306.34449115,  483.72637743,  927.18109313,\n",
       "        306.34449115, 1193.25392255,  572.41732057,  483.72637743,\n",
       "        395.03543429,  395.03543429,  395.03543429,  395.03543429,\n",
       "        661.10826371,  572.41732057,  661.10826371,  749.79920685,\n",
       "        395.03543429,  483.72637743,  572.41732057,  572.41732057,\n",
       "        572.41732057,  306.34449115,  483.72637743,  661.10826371,\n",
       "        749.79920685,  306.34449115, 1015.87203627,  306.34449115,\n",
       "        838.49014999, 1104.56297941,  838.49014999,  306.34449115,\n",
       "        395.03543429,  572.41732057,  483.72637743,  572.41732057,\n",
       "        217.65354801,  749.79920685,  217.65354801, 1015.87203627,\n",
       "        572.41732057,  749.79920685,  927.18109313,  483.72637743,\n",
       "        217.65354801,  306.34449115,  306.34449115,  661.10826371,\n",
       "        395.03543429,  306.34449115,  395.03543429,  572.41732057,\n",
       "        749.79920685, 1104.56297941,  483.72637743,  483.72637743,\n",
       "        395.03543429,  395.03543429,  395.03543429])"
      ]
     },
     "execution_count": 17,
     "metadata": {},
     "output_type": "execute_result"
    }
   ],
   "source": [
    "y_pred"
   ]
  },
  {
   "cell_type": "code",
   "execution_count": 18,
   "metadata": {},
   "outputs": [
    {
     "data": {
      "image/png": "[encoded data removed]",
      "text/plain": [
       "<Figure size 432x288 with 1 Axes>"
      ]
     },
     "metadata": {},
     "output_type": "display_data"
    }
   ],
   "source": [
    "plt.scatter(X_test, y_test,  color='red')\n",
    "plt.plot(X_test, y_pred, color='blue', linewidth=3)\n",
    "\n",
    "plt.title('Crime Data, countyCode vs ViolentCrimesPerPop')\n",
    "plt.xlabel('countyCode')\n",
    "plt.ylabel('ViolentCrimesPerPop')\n",
    "\n",
    "plt.yticks(())\n",
    "plt.show()"
   ]
  },
  {
   "cell_type": "code",
   "execution_count": 15,
   "metadata": {},
   "outputs": [],
   "source": [
    "X1 = df[['population']]"
   ]
  },
  {
   "cell_type": "code",
   "execution_count": 16,
   "metadata": {},
   "outputs": [],
   "source": [
    "X1_train, X1_test, y_train, y_test = train_test_split(X1, y, test_size=0.2, random_state=0)"
   ]
  },
  {
   "cell_type": "code",
   "execution_count": 17,
   "metadata": {},
   "outputs": [
    {
     "data": {
      "text/plain": [
       "LinearRegression(copy_X=True, fit_intercept=True, n_jobs=1, normalize=False)"
      ]
     },
     "execution_count": 17,
     "metadata": {},
     "output_type": "execute_result"
    }
   ],
   "source": [
    "regr.fit(X1_train, y_train)"
   ]
  },
  {
   "cell_type": "code",
   "execution_count": 18,
   "metadata": {},
   "outputs": [],
   "source": [
    "y1_pred = regr.predict(X1_test)"
   ]
  },
  {
   "cell_type": "code",
   "execution_count": 19,
   "metadata": {},
   "outputs": [
    {
     "data": {
      "text/plain": [
       "array([ 529.91262123,  526.18730228,  652.69454808,  508.50533998,\n",
       "        513.42872941,  505.23697738,  513.67119605,  512.07322019,\n",
       "        505.59464311,  509.61344545,  511.0918337 ,  509.27991668,\n",
       "        510.36662804,  521.46797979,  522.30893311,  504.96982522,\n",
       "        543.23676675,  550.13828903,  531.74922378,  530.2264016 ,\n",
       "        514.91699187,  515.57911232,  520.13167041,  510.88557248,\n",
       "        507.24966996,  507.05492865,  542.77432471,  506.51239582,\n",
       "        755.58982158,  517.76679778,  506.06695936,  508.35558117,\n",
       "        527.7726611 ,  505.70325939,  528.11057842,  516.91377599,\n",
       "        512.49287399,  505.30883967,  537.91895759,  508.20362809,\n",
       "        508.13231437,  509.31392783,  506.40542524,  509.0829811 ,\n",
       "        505.35656501,  506.24304939,  504.81458074,  509.70560472,\n",
       "        545.05307231,  546.74759598,  506.48112749,  506.0779307 ,\n",
       "        536.98090791,  507.95512721,  505.78499589,  505.13110394,\n",
       "        507.16957917,  511.56085854,  551.37091923,  505.14481812,\n",
       "        540.79838613,  734.64717663,  525.92618435,  506.40542524,\n",
       "        744.62341733,  504.79154093,  516.13426219,  545.55117121,\n",
       "        505.86837808,  508.59914494,  521.91835335,  536.72637279,\n",
       "        513.89555999,  509.51196055,  505.31981101,  507.65615815,\n",
       "        511.2783465 ,  504.76740397,  506.33136869,  508.07636053,\n",
       "        510.14610408,  505.90622921,  511.47637922,  504.89083156,\n",
       "        505.09270425,  505.09105854,  509.3594589 ,  508.05441785,\n",
       "        533.43222754,  521.1163483 ,  510.17956667,  510.25636606,\n",
       "        546.43491275,  505.96602302,  517.44314321,  517.30490431,\n",
       "        546.01580751,  505.12287543,  539.00896036,  507.02311176,\n",
       "        508.06648632,  505.46134132,  522.13887731,  561.69001435,\n",
       "        507.22169304,  519.75974194,  519.05702753,  545.24232795,\n",
       "        506.27815768,  505.04607605,  510.83291004,  516.40964286,\n",
       "        518.71307598,  507.04834584,  513.87965154,  510.64694581,\n",
       "        505.34285083,  507.2573499 ,  524.90584961,  510.48840993,\n",
       "        514.89724345,  522.09608908,  514.33386507,  517.11839151,\n",
       "        511.48899626,  512.3277553 ,  563.38234375,  526.46871718,\n",
       "        517.08054038,  516.90774176,  507.83992812,  529.28725478,\n",
       "        515.91812676,  521.44219714,  534.12287348,  561.23415511,\n",
       "        586.72935816,  510.63926587,  517.39486931,  505.23149171,\n",
       "        507.43343992,  515.46830177,  568.45768626,  507.99956114,\n",
       "        517.63239885,  507.91782465,  575.55888696,  504.57814834,\n",
       "        519.77126185,  508.05002931,  505.28909126,  538.78404786,\n",
       "        508.28262175,  505.25398296,  524.09342178,  506.38841966,\n",
       "        532.73883877,  517.31368139,  521.064783  ,  509.04183857,\n",
       "        507.81853401,  504.9385569 ,  508.28865598,  523.5700888 ,\n",
       "        508.13286294,  547.7284339 ,  504.66482193,  508.08458903,\n",
       "        529.73927404,  505.67637961,  508.4417062 ,  507.71156343,\n",
       "        507.36596618,  513.05954377,  504.57650263,  512.82036853,\n",
       "        520.41418245,  515.29166317,  506.40926521,  517.55395376,\n",
       "        512.70626658,  505.78664159,  505.90732634,  508.37807242,\n",
       "        523.40332441,  508.44609473,  506.41584801,  543.64270638,\n",
       "        515.06565354,  510.33426258,  506.26938061,  505.68680238,\n",
       "        623.23594797,  515.37833677,  507.52395349,  507.34950916,\n",
       "        555.81760388,  505.28086275,  534.95614686,  506.18325558,\n",
       "        505.40374177,  506.13498167,  514.91150619,  517.94617921,\n",
       "        506.96167225,  505.9879657 ,  527.85000906,  754.49927025,\n",
       "        504.5786969 ,  507.23101868,  542.65418852,  527.534583  ,\n",
       "        515.8742414 ,  504.78002102,  511.59102973,  510.0890531 ,\n",
       "        505.22874888,  508.29688449,  506.1229132 ,  505.83491549,\n",
       "        514.79246714,  509.24919692,  511.20977562,  512.87522524,\n",
       "        539.02102883,  547.03285086,  510.11428719,  532.39324152,\n",
       "        506.07189646,  527.7660783 ,  511.42755675,  598.93771826,\n",
       "        507.41094868,  508.98094762,  505.07624723,  509.05610131,\n",
       "        559.19293705,  515.80073341,  506.10865046,  527.4012812 ,\n",
       "        509.04567854,  530.20061895,  545.31748164,  588.9625747 ,\n",
       "        509.4027957 ,  509.17843177,  515.61860915,  597.83729272,\n",
       "        512.57077052,  505.06582446,  512.8225628 , 1393.54205327,\n",
       "        506.32643158,  515.78482497,  505.09215568,  507.0324374 ,\n",
       "        504.88260306,  505.19748056,  505.2967712 ,  507.08290557,\n",
       "        514.38488181,  535.05214609,  529.53630423,  538.21408667,\n",
       "        511.1302334 ,  606.94295748,  513.74909258,  515.03328808,\n",
       "        506.30229463,  505.37850769,  507.37309755,  507.61611276,\n",
       "        520.31434325,  526.05729188,  504.63245648,  551.95459459,\n",
       "        507.01488325,  526.71118383,  508.06648632,  515.04590513,\n",
       "        514.81824979,  506.3960996 ,  510.74897928,  525.22401851,\n",
       "        558.74585489,  540.88067119,  518.00377876,  505.27592565,\n",
       "        505.03291044,  504.57814834,  506.3527628 ,  505.64730555,\n",
       "        515.82377323,  511.85708476,  543.11169346,  512.89716792,\n",
       "        512.17141369,  509.43845256,  504.80580367,  505.26769714,\n",
       "        505.83765832,  517.62855888,  504.97805373,  545.93681386,\n",
       "        542.99868864,  509.77856414,  524.35179687,  507.37090328,\n",
       "        506.4476649 ,  537.64467406,  621.41525387,  507.61062709,\n",
       "        511.51368178,  505.33571946,  505.9413375 ,  506.35934561,\n",
       "        505.8464354 ,  504.80470654,  506.56670396,  515.03822519,\n",
       "        505.75756753,  508.09501181,  523.78622422,  504.88479733,\n",
       "        517.46782873,  505.63907705,  506.10590762,  504.890283  ,\n",
       "        505.67802531,  506.46686475,  516.04594289,  522.76369521,\n",
       "        514.92686607,  505.38289622,  524.41488208,  541.01726439,\n",
       "        505.03400757,  517.93301361,  516.03771439,  509.32819058,\n",
       "        506.71975417,  573.22034555,  506.28364335,  545.15126581,\n",
       "        514.02611895,  505.94243463,  624.44224695,  540.46924589,\n",
       "        506.256215  ,  527.83135778,  504.96708239,  514.22744306,\n",
       "        505.72904204,  781.77402487,  515.53851835,  505.30280543,\n",
       "        515.72557972,  505.07899007,  515.49902152,  538.1570357 ,\n",
       "        508.94145079,  506.42736792,  533.83926431,  506.33082012,\n",
       "        505.69009378,  519.73889639,  506.97154645,  508.08897757,\n",
       "        512.96683594,  566.49271903,  505.36753635,  526.41879758,\n",
       "        508.10708028,  541.73040158,  505.95944021,  528.44465576,\n",
       "        506.23372375,  531.0459608 ,  514.75406745,  505.19802912,\n",
       "        509.39840716,  554.70401274,  512.83572841,  512.54663357,\n",
       "        514.05574157,  508.05770925,  517.16776255,  614.79075796,\n",
       "        523.08076697,  513.76390389,  515.42880494,  517.84250004,\n",
       "        782.27706087,  505.17828071,  521.19150199,  507.18713331,\n",
       "        506.1629586 ,  505.86618381,  517.48318861,  515.99382902,\n",
       "        542.04418194,  512.12039695,  505.8930636 ,  571.26086398,\n",
       "        508.65071025,  510.0440706 ,  511.2284269 ,  514.06726148,\n",
       "        555.90043751,  517.17599105,  509.44558393,  511.33649461,\n",
       "        507.29629816,  514.22415166,  515.42661067,  504.8036094 ,\n",
       "        553.26402418,  524.36825388,  518.98242241,  517.63569025,\n",
       "        505.75537326,  528.15281808,  506.38348256,  508.8130861 ,\n",
       "        508.61066485,  515.40192515,  506.69232582,  504.6138052 ,\n",
       "        506.81794767,  525.08139107,  507.13721371,  522.19921969,\n",
       "        504.59460535,  521.10098842,  513.18626277,  513.33273017,\n",
       "        506.07683357,  531.28842744,  506.53653277,  507.84596236,\n",
       "        551.78399023,  509.51525195,  518.68455049])"
      ]
     },
     "execution_count": 19,
     "metadata": {},
     "output_type": "execute_result"
    }
   ],
   "source": [
    "y1_pred"
   ]
  },
  {
   "cell_type": "code",
   "execution_count": 20,
   "metadata": {},
   "outputs": [
    {
     "data": {
      "image/png": "[encoded data removed]",
      "text/plain": [
       "<Figure size 432x288 with 1 Axes>"
      ]
     },
     "metadata": {},
     "output_type": "display_data"
    }
   ],
   "source": [
    "plt.scatter(X1_test, y_test,  color='red')\n",
    "plt.plot(X1_test, y1_pred, color='blue', linewidth=3)\n",
    "\n",
    "plt.title('Crime Data, population vs ViolentCrimesPerPop')\n",
    "plt.xlabel('population')\n",
    "plt.ylabel('ViolentCrimesPerPop')\n",
    "\n",
    "plt.yticks(())\n",
    "\n",
    "plt.show()"
   ]
  },
  {
   "cell_type": "code",
   "execution_count": 21,
   "metadata": {},
   "outputs": [],
   "source": [
    "X2 = df[['racePctAsian']]"
   ]
  },
  {
   "cell_type": "code",
   "execution_count": 22,
   "metadata": {},
   "outputs": [],
   "source": [
    "X2_train, X2_test, y_train, y_test = train_test_split(X2, y, test_size=0.2, random_state=0)"
   ]
  },
  {
   "cell_type": "code",
   "execution_count": 23,
   "metadata": {},
   "outputs": [
    {
     "data": {
      "text/plain": [
       "LinearRegression(copy_X=True, fit_intercept=True, n_jobs=1, normalize=False)"
      ]
     },
     "execution_count": 23,
     "metadata": {},
     "output_type": "execute_result"
    }
   ],
   "source": [
    "regr.fit(X2_train, y_train)"
   ]
  },
  {
   "cell_type": "code",
   "execution_count": 24,
   "metadata": {},
   "outputs": [],
   "source": [
    "y2_pred = regr.predict(X2_test)"
   ]
  },
  {
   "cell_type": "code",
   "execution_count": 25,
   "metadata": {},
   "outputs": [
    {
     "data": {
      "text/plain": [
       "array([549.28433149, 526.94071084, 566.86257542, 526.94071084,\n",
       "       534.8304074 , 526.5620054 , 539.95871016, 526.62512298,\n",
       "       531.35894091, 529.19716405, 527.13006356, 526.30953512,\n",
       "       525.80459454, 526.70401994, 527.28785749, 525.82037393,\n",
       "       527.58766596, 533.88364381, 549.09497877, 531.02757366,\n",
       "       528.10838593, 527.0353872 , 526.43577026, 526.104403  ,\n",
       "       526.67246116, 528.67644408, 528.29773865, 529.65476646,\n",
       "       528.96047316, 525.96238847, 525.85193271, 526.08862361,\n",
       "       528.43975319, 526.35687329, 530.12814825, 529.22872284,\n",
       "       525.91505029, 549.82083085, 527.24051931, 535.99808249,\n",
       "       525.86771211, 526.67246116, 526.05706483, 527.88747443,\n",
       "       526.37265269, 526.41999087, 526.29375572, 526.70401994,\n",
       "       537.24465454, 535.33534798, 526.35687329, 526.87759327,\n",
       "       531.75342574, 529.21294345, 525.75725636, 528.6448853 ,\n",
       "       530.52263308, 559.24112854, 526.90915205, 525.4258891 ,\n",
       "       528.04526836, 546.66495223, 525.94660907, 526.16752058,\n",
       "       528.39241501, 530.72776519, 534.00987895, 526.7986963 ,\n",
       "       529.51275192, 525.80459454, 526.54622601, 527.01960781,\n",
       "       529.81256039, 526.95649023, 525.8834915 , 526.68824055,\n",
       "       528.04526836, 526.18329997, 527.85591564, 525.97816786,\n",
       "       525.85193271, 529.46541374, 525.93082968, 538.53856478,\n",
       "       525.82037393, 526.54622601, 526.23063815, 525.89927089,\n",
       "       528.02948896, 530.52263308, 526.59356419, 529.51275192,\n",
       "       530.12814825, 527.11428416, 529.27606102, 527.63500414,\n",
       "       528.92891437, 525.6468006 , 531.70608756, 526.35687329,\n",
       "       527.30363688, 525.89927089, 526.24641754, 544.47161659,\n",
       "       539.87981319, 526.08862361, 532.16368996, 525.75725636,\n",
       "       525.99394725, 530.03347189, 531.6114112 , 526.46732905,\n",
       "       535.16177465, 556.84266079, 526.75135812, 539.46954897,\n",
       "       527.16162234, 525.53634485, 547.1856722 , 525.89927089,\n",
       "       527.65078353, 527.7296805 , 529.00781134, 529.5443107 ,\n",
       "       526.08862361, 527.4929896 , 555.75388266, 526.87759327,\n",
       "       526.7986963 , 533.25246808, 525.85193271, 525.89927089,\n",
       "       525.91505029, 526.70401994, 527.60344535, 530.55419186,\n",
       "       528.6448853 , 528.67644408, 532.24258693, 525.55212425,\n",
       "       525.74147696, 525.94660907, 528.29773865, 528.01370957,\n",
       "       530.55419186, 526.15174118, 527.68234232, 526.13596179,\n",
       "       528.83423801, 526.32531451, 525.85193271, 530.82244155,\n",
       "       525.96238847, 525.99394725, 526.23063815, 526.07284422,\n",
       "       525.86771211, 529.19716405, 528.72378226, 527.50876899,\n",
       "       527.950592  , 526.5777848 , 526.104403  , 526.19907936,\n",
       "       526.16752058, 529.70210463, 526.23063815, 527.57188656,\n",
       "       541.72600219, 525.91505029, 528.47131197, 526.68824055,\n",
       "       528.32929743, 535.71405341, 525.4258891 , 531.12225001,\n",
       "       546.52293769, 535.58781827, 525.69413878, 527.19318113,\n",
       "       533.04733597, 528.04526836, 525.89927089, 526.37265269,\n",
       "       527.2562987 , 526.83025509, 526.02550604, 531.09069123,\n",
       "       531.18536759, 527.05116659, 529.38651677, 526.05706483,\n",
       "       532.85798326, 526.87759327, 525.74147696, 527.42987203,\n",
       "       542.78322152, 525.69413878, 527.00382841, 576.26709371,\n",
       "       535.0513189 , 528.58176772, 530.82244155, 526.38843208,\n",
       "       530.99601487, 526.68824055, 535.57203887, 530.04925128,\n",
       "       527.54032778, 529.46541374, 528.59754712, 525.67835939,\n",
       "       526.60934358, 529.41807556, 528.02948896, 526.83025509,\n",
       "       526.95649023, 525.61524182, 525.55212425, 535.85606795,\n",
       "       525.48900667, 529.59164888, 527.31941627, 552.40865132,\n",
       "       535.11443647, 543.91933783, 526.67246116, 615.9207086 ,\n",
       "       525.82037393, 535.2722304 , 526.41999087, 526.26219694,\n",
       "       529.49697252, 525.72569757, 526.04128543, 528.47131197,\n",
       "       537.38666908, 544.31382266, 526.64090237, 579.42297233,\n",
       "       525.70991818, 532.51083661, 526.104403  , 528.67644408,\n",
       "       525.70991818, 527.7296805 , 528.91313498, 547.56437764,\n",
       "       527.98215079, 525.70991818, 526.87759327, 531.75342574,\n",
       "       525.75725636, 528.97625255, 525.86771211, 526.87759327,\n",
       "       526.40421147, 525.8834915 , 526.05706483, 528.01370957,\n",
       "       526.84603448, 531.46939666, 526.15174118, 542.54653063,\n",
       "       526.41999087, 526.04128543, 532.05323421, 527.0353872 ,\n",
       "       527.60344535, 525.61524182, 527.99793018, 526.15174118,\n",
       "       532.11635178, 526.35687329, 527.17740174, 526.41999087,\n",
       "       526.15174118, 526.16752058, 527.85591564, 525.99394725,\n",
       "       527.57188656, 527.57188656, 528.94469376, 534.32546682,\n",
       "       538.00206541, 531.10647062, 525.85193271, 525.44166849,\n",
       "       526.15174118, 525.61524182, 528.36085622, 528.23462107,\n",
       "       526.35687329, 527.39831324, 528.20306229, 525.69413878,\n",
       "       529.57586949, 525.99394725, 526.1201824 , 525.91505029,\n",
       "       529.43385495, 526.46732905, 533.29980626, 526.5620054 ,\n",
       "       530.31750097, 526.60934358, 529.14982588, 526.78291691,\n",
       "       525.74147696, 526.18329997, 527.16162234, 526.15174118,\n",
       "       525.78881514, 526.19907936, 526.26219694, 526.24641754,\n",
       "       530.56997126, 530.79088276, 526.02550604, 528.88157619,\n",
       "       527.69812171, 528.34507683, 527.4929896 , 527.65078353,\n",
       "       526.62512298, 525.48900667, 525.33121274, 544.94499838,\n",
       "       526.27797633, 525.96238847, 525.8834915 , 530.4752949 ,\n",
       "       539.59578412, 527.01960781, 526.24641754, 555.62764752,\n",
       "       525.55212425, 527.93481261, 526.94071084, 529.16560527,\n",
       "       527.63500414, 539.34331383, 527.54032778, 564.65346038,\n",
       "       525.77303575, 525.50478607, 543.17770635, 531.10647062,\n",
       "       526.5620054 , 541.22106161, 529.5600901 , 525.70991818,\n",
       "       527.99793018, 527.08272538, 530.0019131 , 526.104403  ,\n",
       "       525.99394725, 534.51481953, 526.7986963 , 525.75725636,\n",
       "       527.39831324, 525.97816786, 536.34522913, 532.24258693,\n",
       "       529.03937012, 546.75962859, 527.13006356, 525.93082968,\n",
       "       529.02359073, 525.85193271, 525.86771211, 577.68723909,\n",
       "       527.05116659, 527.36675445, 526.48310844, 527.22473992,\n",
       "       525.86771211, 526.59356419, 525.85193271, 526.35687329,\n",
       "       530.4595155 , 533.83630563, 530.90133851, 537.5760218 ,\n",
       "       528.50287076, 526.19907936, 533.48915898, 561.22933207,\n",
       "       529.18138466, 525.56790364, 525.96238847, 534.73573104,\n",
       "       543.84044086, 525.63102121, 527.27207809, 526.30953512,\n",
       "       526.62512298, 525.78881514, 532.54239539, 530.42795672,\n",
       "       527.85591564, 527.00382841, 526.97226963, 538.04940359,\n",
       "       525.52056546, 527.2562987 , 526.89337266, 544.36116084,\n",
       "       526.70401994, 529.43385495, 525.96238847, 533.6785117 ,\n",
       "       525.96238847, 525.97816786, 526.19907936, 525.86771211,\n",
       "       526.87759327, 526.70401994, 528.28195925, 527.7139011 ,\n",
       "       533.28402687, 528.48709136, 528.12416532, 525.50478607,\n",
       "       526.18329997, 525.66258   , 526.60934358, 526.32531451,\n",
       "       527.80857746, 530.22282461, 527.14584295, 528.39241501,\n",
       "       525.6468006 , 526.94071084, 527.14584295, 526.19907936,\n",
       "       527.11428416, 532.84220386, 525.61524182, 536.29789096,\n",
       "       552.39287193, 529.41807556, 528.6291059 ])"
      ]
     },
     "execution_count": 25,
     "metadata": {},
     "output_type": "execute_result"
    }
   ],
   "source": [
    "y2_pred"
   ]
  },
  {
   "cell_type": "code",
   "execution_count": 45,
   "metadata": {},
   "outputs": [
    {
     "data": {
      "image/png": "[encoded data removed]",
      "text/plain": [
       "<Figure size 432x288 with 1 Axes>"
      ]
     },
     "metadata": {},
     "output_type": "display_data"
    }
   ],
   "source": [
    "plt.scatter(X2_test, y_test,  color='red')\n",
    "plt.plot(X2_test, y2_pred, color='blue', linewidth=3)\n",
    "\n",
    "plt.title('Crime Data, racePctAsian vs ViolentCrimesPerPop')\n",
    "plt.xlabel('racePctAsian')\n",
    "plt.ylabel('ViolentCrimesPerPop')\n",
    "\n",
    "plt.yticks(())\n",
    "plt.show()"
   ]
  },
  {
   "cell_type": "code",
   "execution_count": 53,
   "metadata": {},
   "outputs": [],
   "source": [
    "df['burglaries'].replace('?','0', inplace = True)"
   ]
  },
  {
   "cell_type": "code",
   "execution_count": 54,
   "metadata": {},
   "outputs": [],
   "source": [
    "X3 = df[['burglaries']].astype(int)"
   ]
  },
  {
   "cell_type": "code",
   "execution_count": 55,
   "metadata": {},
   "outputs": [],
   "source": [
    "X3_train, X3_test, y_train, y_test = train_test_split(X3, y, test_size=0.2, random_state=0)"
   ]
  },
  {
   "cell_type": "code",
   "execution_count": 56,
   "metadata": {},
   "outputs": [
    {
     "data": {
      "text/plain": [
       "LinearRegression(copy_X=True, fit_intercept=True, n_jobs=1, normalize=False)"
      ]
     },
     "execution_count": 56,
     "metadata": {},
     "output_type": "execute_result"
    }
   ],
   "source": [
    "regr.fit(X3_train, y_train)"
   ]
  },
  {
   "cell_type": "code",
   "execution_count": 57,
   "metadata": {},
   "outputs": [],
   "source": [
    "y3_pred = regr.predict(X3_test)"
   ]
  },
  {
   "cell_type": "code",
   "execution_count": 58,
   "metadata": {},
   "outputs": [
    {
     "data": {
      "text/plain": [
       "array([ 560.00206844,  499.16286805,  504.33047089,  495.54021864,\n",
       "        494.84765331,  488.50801684,  490.58571283,  490.90535837,\n",
       "        496.39260674,  499.48251359,  493.83544245,  492.34376328,\n",
       "        496.9253493 ,  498.63012549,  522.33716943,  490.58571283,\n",
       "        554.62136858,  522.1240724 ,  516.7966468 ,  508.85878265,\n",
       "        491.91756923,  500.4414502 ,  529.84883953,  491.43810093,\n",
       "        490.85208411,  492.61013456,  506.94090943,  492.9297801 ,\n",
       "        972.98410121,  517.96868043,  490.10624453,  491.06518113,\n",
       "        506.67453815,  490.26606729,  522.86991199,  497.56464037,\n",
       "        492.5568603 ,  490.95863262,  525.53362479,  493.62234542,\n",
       "        494.47473352,  497.61791463,  500.97419276,  493.99526522,\n",
       "        489.46695345,  494.84765331,  509.71117075,  494.47473352,\n",
       "        496.71225227,  567.19409301,  493.72889394,  490.85208411,\n",
       "        517.11629233,  495.54021864,  486.90978916,  488.5612911 ,\n",
       "        496.33933248,  509.87099351,  584.56150047,  500.76109573,\n",
       "        519.51363386,  847.89614805,  554.03535177,  492.50358605,\n",
       "       1046.34275177,  488.13509705,  507.9531203 ,  522.17734666,\n",
       "        495.5934929 ,  522.65681496,  524.52141392,  522.9764605 ,\n",
       "        491.81102072,  492.13066625,  489.94642176,  491.91756923,\n",
       "        493.30269989,  489.30713068,  488.5612911 ,  499.21614231,\n",
       "        500.4414502 ,  493.83544245,  495.06075034,  488.24164556,\n",
       "        489.09403366,  491.38482667,  491.38482667,  495.85986418,\n",
       "        537.41378388,  550.03978256,  492.39703753,  489.73332473,\n",
       "        524.7877852 ,  487.708903  ,  497.24499483,  492.76995733,\n",
       "        536.6679443 ,  493.62234542,  537.9998007 ,  490.69226134,\n",
       "        491.2250039 ,  501.82658085,  547.58916679,  560.48153675,\n",
       "        490.21279304,  531.28724444,  490.42589006,  577.2629274 ,\n",
       "        490.26606729,  494.95420182,  491.54464944,  511.62904396,\n",
       "        499.85543338,  489.8931475 ,  496.33933248,  492.077392  ,\n",
       "        488.02854854,  489.68005048,  506.51471538,  503.05188874,\n",
       "        514.39930528,  530.9675989 ,  493.56907117,  489.94642176,\n",
       "        509.764445  ,  500.76109573,  518.87434278,  505.7688758 ,\n",
       "        520.15292493,  492.077392  ,  490.10624453,  546.15076187,\n",
       "        510.93647863,  511.89541524,  519.99310216,  569.00541771,\n",
       "        623.6648044 ,  493.83544245,  510.35046182,  488.93421089,\n",
       "        497.19172058,  510.77665587,  553.60915772,  492.5568603 ,\n",
       "        508.48586286,  493.14287712,  700.91247565,  490.95863262,\n",
       "        518.02195469,  504.06409961,  489.99969601,  593.88449528,\n",
       "        489.99969601,  493.14287712,  511.41594694,  493.8887167 ,\n",
       "        548.06863509,  517.2761151 ,  519.83327939,  486.69669214,\n",
       "        489.83987325,  497.08517207,  494.7411048 ,  530.22175932,\n",
       "        496.28605823,  559.57587439,  488.77438812,  488.24164556,\n",
       "        512.64125483,  497.72446314,  487.60235449,  492.76995733,\n",
       "        492.18394051,  495.16729885,  488.5612911 ,  499.80215912,\n",
       "        498.31047995,  511.25612417,  489.52022771,  501.18728978,\n",
       "        503.90427684,  489.30713068,  495.54021864,  489.25385643,\n",
       "        498.15065719,  491.17172965,  490.90535837,  583.86893514,\n",
       "        496.17950971,  491.38482667,  492.61013456,  492.61013456,\n",
       "        586.85229348,  502.30604916,  488.29491982,  499.80215912,\n",
       "        606.24412268,  496.71225227,  504.38374514,  492.077392  ,\n",
       "        488.50801684,  496.60570376,  491.86429497,  536.34829876,\n",
       "        492.87650584,  487.06961193,  508.27276583,  937.02397839,\n",
       "        489.46695345,  491.97084349,  523.40265455,  508.91205691,\n",
       "        494.20836224,  491.65119795,  494.36818501,  490.31934155,\n",
       "        493.46252266,  496.12623546,  502.78551746,  495.2205731 ,\n",
       "        510.98975289,  489.36040494,  509.81771926,  512.16178652,\n",
       "        523.29610603,  601.39616538,  496.87207504,  527.07857821,\n",
       "        491.97084349,  500.70782148,  503.42480853,  715.93581585,\n",
       "        495.70004141,  490.58571283,  501.98640362,  490.05297027,\n",
       "        545.35164803,  520.57911898,  495.91313843,  520.3127477 ,\n",
       "        491.38482667,  520.41929621,  555.31393391,  637.14319118,\n",
       "        491.97084349,  491.27827816,  504.4370194 ,  571.72240477,\n",
       "        493.67561968,  491.38482667,  514.23948251, 1926.27363868,\n",
       "        490.37261581,  503.95755109,  499.1095938 ,  488.45474259,\n",
       "        501.13401552,  498.04410867,  494.84765331,  499.05631954,\n",
       "        496.39260674,  515.78443593,  568.25957813,  546.68350443,\n",
       "        489.62677622,  863.39895655,  493.51579691,  495.70004141,\n",
       "        492.71668307,  491.11845539,  487.92200003,  489.8931475 ,\n",
       "        514.18620825,  527.07857821,  490.21279304,  492.98305435,\n",
       "        515.51806465,  500.86764424,  489.0407594 ,  520.63239323,\n",
       "        492.5568603 ,  488.18837131,  491.33155241,  525.58689904,\n",
       "        557.3916299 ,  518.87434278,  498.63012549,  497.08517207,\n",
       "        487.49580598,  491.54464944,  503.31826002,  489.68005048,\n",
       "        489.14730792,  501.56020957,  556.37941903,  507.47365199,\n",
       "        497.83101165,  493.03632861,  489.30713068,  491.70447221,\n",
       "        486.90978916,  489.68005048,  488.98748515,  514.23948251,\n",
       "        542.10191841,  492.39703753,  535.49591067,  493.8887167 ,\n",
       "        497.51136611,  556.85888734,  666.0711122 ,  490.63898709,\n",
       "        516.53027552,  494.84765331,  491.70447221,  492.45031179,\n",
       "        496.28605823,  488.72111387,  488.50801684,  501.50693532,\n",
       "        490.10624453,  493.24942563,  525.21397925,  490.90535837,\n",
       "        502.94534023,  498.09738293,  522.01752389,  493.35597414,\n",
       "        489.83987325,  492.61013456,  492.13066625,  508.37931434,\n",
       "        528.83662866,  487.76217726,  538.479269  ,  527.66459503,\n",
       "        497.08517207,  520.3127477 ,  498.09738293,  495.43367013,\n",
       "        488.82766238,  587.65140732,  490.05297027,  536.77449281,\n",
       "        510.40373607,  492.50358605,  709.91582492,  507.42037774,\n",
       "        490.21279304,  499.96198189,  491.27827816,  497.67118888,\n",
       "        490.05297027,  787.32331894,  528.14406333,  492.18394051,\n",
       "        506.35489262,  497.93756016,  500.33490168,  524.94760797,\n",
       "        494.68783054,  492.50358605,  562.07976443,  489.20058217,\n",
       "        495.2205731 ,  495.54021864,  492.077392  ,  510.03081628,\n",
       "        501.13401552,  578.32841252,  493.83544245,  528.62353164,\n",
       "        507.74002327,  544.92545398,  489.14730792,  549.13412021,\n",
       "        488.02854854,  531.55361572,  519.72673088,  493.8887167 ,\n",
       "        499.64233636,  553.92880325,  496.97862355,  496.12623546,\n",
       "        498.57685123,  490.31934155,  500.28162743,  772.35325299,\n",
       "        502.67896895,  498.84322251,  520.20619918,  503.85100258,\n",
       "        979.32373768,  488.29491982,  509.49807372,  490.15951878,\n",
       "        490.95863262,  488.93421089,  505.98197282,  500.0685304 ,\n",
       "        531.44706721,  490.69226134,  493.08960286,  582.43053023,\n",
       "        510.45701033,  490.42589006,  490.10624453,  510.03081628,\n",
       "        614.39508385,  496.9253493 ,  527.8244178 ,  491.33155241,\n",
       "        502.09295213,  501.18728978,  509.2849767 ,  489.94642176,\n",
       "        566.7146247 ,  516.90319531,  501.24056404,  497.13844632,\n",
       "        489.09403366,  504.22392237,  488.82766238,  498.2572057 ,\n",
       "        494.7411048 ,  511.46922119,  492.76995733,  489.62677622,\n",
       "        490.58571283,  501.18728978,  495.70004141,  511.20284991,\n",
       "        490.05297027,  495.16729885,  490.42589006,  508.75223414,\n",
       "        494.63455629,  561.49374761,  491.65119795,  490.58571283,\n",
       "        540.87661053,  496.12623546,  508.75223414])"
      ]
     },
     "execution_count": 58,
     "metadata": {},
     "output_type": "execute_result"
    }
   ],
   "source": [
    "y3_pred"
   ]
  },
  {
   "cell_type": "code",
   "execution_count": 59,
   "metadata": {},
   "outputs": [
    {
     "data": {
      "image/png": "[encoded data removed]",
      "text/plain": [
       "<Figure size 432x288 with 1 Axes>"
      ]
     },
     "metadata": {},
     "output_type": "display_data"
    }
   ],
   "source": [
    "plt.scatter(X3_test, y_test,  color='red')\n",
    "plt.plot(X3_test, y3_pred, color='blue', linewidth=3)\n",
    "\n",
    "plt.title('Crime Data, burglaries vs ViolentCrimesPerPop')\n",
    "plt.xlabel('burglaries')\n",
    "plt.ylabel('ViolentCrimesPerPop')\n",
    "\n",
    "plt.yticks(())\n",
    "plt.show()"
   ]
  },
  {
   "cell_type": "code",
   "execution_count": null,
   "metadata": {},
   "outputs": [],
   "source": []
  }
 ],
 "metadata": {
  "kernelspec": {
   "display_name": "Python 3",
   "language": "python",
   "name": "python3"
  },
  "language_info": {
   "codemirror_mode": {
    "name": "ipython",
    "version": 3
   },
   "file_extension": ".py",
   "mimetype": "text/x-python",
   "name": "python",
   "nbconvert_exporter": "python",
   "pygments_lexer": "ipython3",
   "version": "3.6.5"
  }
 },
 "nbformat": 4,
 "nbformat_minor": 2
}
